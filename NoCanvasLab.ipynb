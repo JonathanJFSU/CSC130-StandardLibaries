{
  "nbformat": 4,
  "nbformat_minor": 0,
  "metadata": {
    "colab": {
      "provenance": [],
      "authorship_tag": "ABX9TyMcYLbml7Mlfvz+k8tICiNA",
      "include_colab_link": true
    },
    "kernelspec": {
      "name": "python3",
      "display_name": "Python 3"
    },
    "language_info": {
      "name": "python"
    }
  },
  "cells": [
    {
      "cell_type": "markdown",
      "metadata": {
        "id": "view-in-github",
        "colab_type": "text"
      },
      "source": [
        "<a href=\"https://colab.research.google.com/github/JonathanJFSU/CSC130-StandardLibaries/blob/main/NoCanvasLab.ipynb\" target=\"_parent\"><img src=\"https://colab.research.google.com/assets/colab-badge.svg\" alt=\"Open In Colab\"/></a>"
      ]
    },
    {
      "cell_type": "markdown",
      "source": [
        "datetime: Get and format current date/time.\n",
        "random: Generate a random password.\n",
        "copy: Shallow vs deep copy.\n",
        "time: Timer using sleep.\n",
        "math: Area of a circle.\n",
        "os: List files in directory.\n",
        "sys: Print Python version.\n",
        "pdb: Debug a division-by-zero error."
      ],
      "metadata": {
        "id": "9fOjQsxr1nQL"
      }
    },
    {
      "cell_type": "markdown",
      "source": [
        "Produces an output of today's date using dateime"
      ],
      "metadata": {
        "id": "cO4Fs4Nc1l92"
      }
    },
    {
      "cell_type": "code",
      "source": [
        "from datetime import date\n",
        "today = date.today()\n",
        "print(\"Today's date:\", today)"
      ],
      "metadata": {
        "colab": {
          "base_uri": "https://localhost:8080/"
        },
        "id": "d9tYH30x146C",
        "outputId": "678b18e0-e8a7-4480-dde5-ae23f8fc0273"
      },
      "execution_count": 2,
      "outputs": [
        {
          "output_type": "stream",
          "name": "stdout",
          "text": [
            "Today's date: 2025-10-20\n"
          ]
        }
      ]
    },
    {
      "cell_type": "markdown",
      "source": [
        "Generates a random passwprd of 20 digits, even digits are numbers, odd are letters"
      ],
      "metadata": {
        "id": "gRXi5_wE9tta"
      }
    },
    {
      "cell_type": "code",
      "source": [
        "import random\n",
        "from random import randrange\n",
        "password = []\n",
        "\n",
        "for x in range(20):\n",
        "  if x % 20 == 0:\n",
        "    password.append(randrange(10))\n",
        "  else:\n",
        "    password.append(chr(randrange(97, 123)))\n",
        "\n",
        "print(password)\n"
      ],
      "metadata": {
        "colab": {
          "base_uri": "https://localhost:8080/"
        },
        "id": "hw4u0QSy2GnO",
        "outputId": "c8c41371-3f60-4a62-a3b5-28972add01d4"
      },
      "execution_count": 6,
      "outputs": [
        {
          "output_type": "stream",
          "name": "stdout",
          "text": [
            "[3, 'a', 's', 'b', 'q', 'a', 'y', 'w', 'u', 'f', 'j', 'b', 'y', 'o', 'b', 'c', 'v', 'k', 'c', 's']\n"
          ]
        }
      ]
    },
    {
      "cell_type": "markdown",
      "source": [
        "Deomstrates a shallow (regular copy) vs that of a deep copy"
      ],
      "metadata": {
        "id": "PKJWOa4892hR"
      }
    },
    {
      "cell_type": "code",
      "source": [
        "import copy\n",
        "\n",
        "my_object = [['internal list 1'], ['internal list 2']]\n",
        "\n",
        "deep = copy.deepcopy(my_object)\n",
        "\n",
        "deep[0] = ['internal list n']\n",
        "\n",
        "print(f'Shallow copy of my_object: {my_object}')\n",
        "print(f'Deep copy of my_object: {deep}')\n",
        "\n",
        "\n"
      ],
      "metadata": {
        "colab": {
          "base_uri": "https://localhost:8080/"
        },
        "id": "bz2JY4zx3SWo",
        "outputId": "42e81e09-e7a1-456a-f6b2-7c24632e82be"
      },
      "execution_count": 11,
      "outputs": [
        {
          "output_type": "stream",
          "name": "stdout",
          "text": [
            "Shallow copy of my_object: [['internal list 1'], ['internal list 2']]\n",
            "Deep copy of my_object: [['internal list n'], ['internal list 2']]\n"
          ]
        }
      ]
    },
    {
      "cell_type": "markdown",
      "source": [
        "Uses time to cause a delay of the program entered by the user"
      ],
      "metadata": {
        "id": "jtOjmGE_9770"
      }
    },
    {
      "cell_type": "code",
      "source": [
        "import time\n",
        "\n",
        "delay = int(input(print('Enter a delay to experince')))\n",
        "\n",
        "time.sleep(delay)\n",
        "\n",
        "print(f'You waited {delay} seconds.')"
      ],
      "metadata": {
        "colab": {
          "base_uri": "https://localhost:8080/"
        },
        "id": "9CuX3qI25hVF",
        "outputId": "bdfdf7f0-8770-452a-9933-e2bd335e426b"
      },
      "execution_count": 13,
      "outputs": [
        {
          "output_type": "stream",
          "name": "stdout",
          "text": [
            "Enter a delay to experince\n",
            "None3\n",
            "You waited 3 seconds.\n"
          ]
        }
      ]
    },
    {
      "cell_type": "markdown",
      "source": [
        "Uses math to calculate area of a circle"
      ],
      "metadata": {
        "id": "5LiLNEGR-CLu"
      }
    },
    {
      "cell_type": "code",
      "source": [
        "import math\n",
        "\n",
        "radius = 5\n",
        "\n",
        "print(f'The area of the circle with radius {radius} is {math.pi * radius ** 2}')\n"
      ],
      "metadata": {
        "colab": {
          "base_uri": "https://localhost:8080/"
        },
        "id": "gWWeB-Q458hJ",
        "outputId": "9bbdcbec-daca-47df-bade-497420ea9343"
      },
      "execution_count": 14,
      "outputs": [
        {
          "output_type": "stream",
          "name": "stdout",
          "text": [
            "The area of the circle with radius 5 is 78.53981633974483\n"
          ]
        }
      ]
    },
    {
      "cell_type": "markdown",
      "source": [
        "Uses OS to get the working directory and then list all files in them"
      ],
      "metadata": {
        "id": "rnCX9qOC-Fa1"
      }
    },
    {
      "cell_type": "code",
      "source": [
        "import os\n",
        "\n",
        "directory = os.getcwd()\n",
        "\n",
        "for filename in os.listdir(directory):\n",
        "  print(filename)\n",
        "\n"
      ],
      "metadata": {
        "colab": {
          "base_uri": "https://localhost:8080/"
        },
        "id": "HRY2I1Nh6ej2",
        "outputId": "318b664f-d4e8-4f73-eaf5-53b326f777b9"
      },
      "execution_count": 15,
      "outputs": [
        {
          "output_type": "stream",
          "name": "stdout",
          "text": [
            ".config\n",
            "sample_data\n"
          ]
        }
      ]
    },
    {
      "cell_type": "markdown",
      "source": [
        "Uses sys to print the current version of Python"
      ],
      "metadata": {
        "id": "JdoUPx23-LOF"
      }
    },
    {
      "cell_type": "code",
      "source": [
        "import sys\n",
        "\n",
        "print(f'Python version: {sys.version}')"
      ],
      "metadata": {
        "colab": {
          "base_uri": "https://localhost:8080/"
        },
        "id": "_a0c5DeU6sQ0",
        "outputId": "9da199c6-5d2e-4fd1-de03-f8d2c0607246"
      },
      "execution_count": 16,
      "outputs": [
        {
          "output_type": "stream",
          "name": "stdout",
          "text": [
            "Python version: 3.12.12 (main, Oct 10 2025, 08:52:57) [GCC 11.4.0]\n"
          ]
        }
      ]
    },
    {
      "cell_type": "markdown",
      "source": [
        "Uses pdb to enter debug mod with division by zero"
      ],
      "metadata": {
        "id": "v_i2UDWK-O0H"
      }
    },
    {
      "cell_type": "code",
      "source": [
        "import pdb\n",
        "\n",
        "a  = 12\n",
        "b = 0\n",
        "\n",
        "breakpoint()\n",
        "result = a / b\n",
        "\n",
        "print(result)"
      ],
      "metadata": {
        "colab": {
          "base_uri": "https://localhost:8080/",
          "height": 591
        },
        "id": "rXQYfvTN6wqV",
        "outputId": "fe98da88-f432-44ed-87ce-2dc8101f972c"
      },
      "execution_count": 17,
      "outputs": [
        {
          "output_type": "stream",
          "name": "stdout",
          "text": [
            "--Return--\n",
            "None\n",
            "> \u001b[0;32m/tmp/ipython-input-3678187169.py\u001b[0m(6)\u001b[0;36m<cell line: 0>\u001b[0;34m()\u001b[0m\n",
            "\u001b[0;32m      4 \u001b[0;31m\u001b[0mb\u001b[0m \u001b[0;34m=\u001b[0m \u001b[0;36m0\u001b[0m\u001b[0;34m\u001b[0m\u001b[0;34m\u001b[0m\u001b[0m\n",
            "\u001b[0m\u001b[0;32m      5 \u001b[0;31m\u001b[0;34m\u001b[0m\u001b[0m\n",
            "\u001b[0m\u001b[0;32m----> 6 \u001b[0;31m\u001b[0mbreakpoint\u001b[0m\u001b[0;34m(\u001b[0m\u001b[0;34m)\u001b[0m\u001b[0;34m\u001b[0m\u001b[0;34m\u001b[0m\u001b[0m\n",
            "\u001b[0m\u001b[0;32m      7 \u001b[0;31m\u001b[0mresult\u001b[0m \u001b[0;34m=\u001b[0m \u001b[0ma\u001b[0m \u001b[0;34m/\u001b[0m \u001b[0mb\u001b[0m\u001b[0;34m\u001b[0m\u001b[0;34m\u001b[0m\u001b[0m\n",
            "\u001b[0m\u001b[0;32m      8 \u001b[0;31m\u001b[0;34m\u001b[0m\u001b[0m\n",
            "\u001b[0m\n",
            "ipdb> 5\n",
            "5\n",
            "ipdb> 0\n",
            "0\n",
            "ipdb> divide by 0\n",
            "*** SyntaxError: invalid syntax\n",
            "ipdb> a / b\n",
            "ipdb> 12 /0\n",
            "*** ZeroDivisionError: division by zero\n",
            "--KeyboardInterrupt--\n",
            "\n",
            "KeyboardInterrupt: Interrupted by user\n"
          ]
        },
        {
          "output_type": "error",
          "ename": "ZeroDivisionError",
          "evalue": "division by zero",
          "traceback": [
            "\u001b[0;31m---------------------------------------------------------------------------\u001b[0m",
            "\u001b[0;31mZeroDivisionError\u001b[0m                         Traceback (most recent call last)",
            "\u001b[0;32m/tmp/ipython-input-3678187169.py\u001b[0m in \u001b[0;36m<cell line: 0>\u001b[0;34m()\u001b[0m\n\u001b[1;32m      5\u001b[0m \u001b[0;34m\u001b[0m\u001b[0m\n\u001b[1;32m      6\u001b[0m \u001b[0mbreakpoint\u001b[0m\u001b[0;34m(\u001b[0m\u001b[0;34m)\u001b[0m\u001b[0;34m\u001b[0m\u001b[0;34m\u001b[0m\u001b[0m\n\u001b[0;32m----> 7\u001b[0;31m \u001b[0mresult\u001b[0m \u001b[0;34m=\u001b[0m \u001b[0ma\u001b[0m \u001b[0;34m/\u001b[0m \u001b[0mb\u001b[0m\u001b[0;34m\u001b[0m\u001b[0;34m\u001b[0m\u001b[0m\n\u001b[0m\u001b[1;32m      8\u001b[0m \u001b[0;34m\u001b[0m\u001b[0m\n\u001b[1;32m      9\u001b[0m \u001b[0mprint\u001b[0m\u001b[0;34m(\u001b[0m\u001b[0mresult\u001b[0m\u001b[0;34m)\u001b[0m\u001b[0;34m\u001b[0m\u001b[0;34m\u001b[0m\u001b[0m\n",
            "\u001b[0;31mZeroDivisionError\u001b[0m: division by zero"
          ]
        }
      ]
    }
  ]
}